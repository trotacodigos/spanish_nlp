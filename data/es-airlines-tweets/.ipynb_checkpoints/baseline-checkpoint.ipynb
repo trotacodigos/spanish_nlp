{
 "cells": [
  {
   "cell_type": "markdown",
   "metadata": {},
   "source": [
    "# Baseline model\n",
    "\n",
    "This is the entrypoint for the competition, it:\n",
    "\n",
    "* Reads data from tweets' CSV files\n",
    "* Computes Bag of Words (BoW) from textual representations (tweets text)\n",
    "* Tests two models to find out which performs better\n",
    "* Predicts classes for the submission/benchmark tweets\n",
    "* Generates a suitable CSV for Kaggle InClass"
   ]
  },
  {
   "cell_type": "markdown",
   "metadata": {},
   "source": [
    "## Data representation\n",
    "\n",
    "The function `obtain_data_representation` performs the BoW transformation over the training set and applies it to both the train and test set.\n",
    "\n",
    "If no test set is provided, the input DataFrame is split into both train and test, 75% and 25% of the data respectively. This is done so as to be able to obtain an accuracy score, which will be the evaluation metric on Kaggle.\n",
    "\n",
    "BoW is computed through `CountVectorizer` class of `sklearn`, restricting it to at most 200 features. The process of finding the best words is done by the `fit` method, whereas transforming the text to numerical vectors (using the learnt features) is done by `transform`. Lastly, `fit_transform` does in a single step the learning and transforming process."
   ]
  },
  {
   "cell_type": "code",
   "execution_count": null,
   "metadata": {
    "collapsed": false,
    "jupyter": {
     "outputs_hidden": false
    }
   },
   "outputs": [],
   "source": [
    "from sklearn.feature_extraction.text import CountVectorizer\n",
    "from sklearn.model_selection import train_test_split\n",
    "\n",
    "\n",
    "def obtain_data_representation(df, test=None):\n",
    "    # If there is no test data, split the input\n",
    "    if test is None:\n",
    "        # Divide data in train and test\n",
    "        train, test = train_test_split(df, test_size=0.25)\n",
    "        df.airline_sentiment = pd.Categorical(df.airline_sentiment)\n",
    "    else:\n",
    "        # Otherwise, all is train\n",
    "        train = df\n",
    "        \n",
    "    # Create a Bag of Words (BoW), by using train data only\n",
    "    cv = CountVectorizer(max_features=200)\n",
    "    x_train = cv.fit_transform(train['text'])\n",
    "    y_train = train['airline_sentiment'].values\n",
    "    \n",
    "    # Obtain BoW for the test data, using the previously fitted one\n",
    "    x_test = cv.transform(test['text'])\n",
    "    try:\n",
    "        y_test = test['airline_sentiment'].values\n",
    "    except:\n",
    "        # It might be the submision file, where we don't have target values\n",
    "        y_test = None\n",
    "        \n",
    "    return {\n",
    "        'train': {\n",
    "            'x': x_train,\n",
    "            'y': y_train\n",
    "        },\n",
    "        'test': {\n",
    "            'x': x_test,\n",
    "            'y': y_test\n",
    "        },\n",
    "        'test_data': test\n",
    "    }"
   ]
  },
  {
   "cell_type": "markdown",
   "metadata": {},
   "source": [
    "## Model training\n",
    "\n",
    "Thought this function might seem strange at first, the only thing to know is that training an `sklearn` model is always done the same way:\n",
    "\n",
    "```python\n",
    "# 1. Create the model\n",
    "model = BernoulliNB()\n",
    "\n",
    "# 2. Train with some data, where `x` are features and\n",
    "#    `y` is the target category\n",
    "model.fit(x, y)\n",
    "\n",
    "# 3. Predict new categories for test data (with which we\n",
    "#    have not trained!)\n",
    "y_pred = model.predict(test_x)\n",
    "```\n",
    "\n",
    "We might also obtain the accuracy score by using the function `accuracy_score`"
   ]
  },
  {
   "cell_type": "code",
   "execution_count": null,
   "metadata": {
    "collapsed": false,
    "jupyter": {
     "outputs_hidden": false
    }
   },
   "outputs": [],
   "source": [
    "from sklearn.metrics import accuracy_score\n",
    "from sklearn.metrics import confusion_matrix\n",
    "\n",
    "def train_model(dataset, dmodel, *model_args, **model_kwargs):\n",
    "    # Create a Naive Bayes model\n",
    "    model = dmodel(*model_args, **model_kwargs)\n",
    "    \n",
    "    # Train it\n",
    "    model.fit(dataset['train']['x'], dataset['train']['y'])\n",
    "    \n",
    "    # Predict new values for test\n",
    "    y_pred = model.predict(dataset['test']['x'])\n",
    "    \n",
    "    # Print accuracy score unless its the submission dataset\n",
    "    confu = None\n",
    "    gab = None\n",
    "    bag = None\n",
    "    if dataset['test']['y'] is not None:\n",
    "        score = accuracy_score(dataset['test']['y'], y_pred)\n",
    "        confu = confusion_matrix(dataset['test']['y'], y_pred, labels=['positive', 'neutral', 'negative'])\n",
    "        print(\"Model score is: {}\".format(score))\n",
    "        \n",
    "        gab = [True if dataset['test']['y'][x]=='positive' and y_pred[x]=='negative' else False for x in range(len(y_pred))]\n",
    "        bag = [True if dataset['test']['y'][x]=='negative' and y_pred[x]=='positive' else False for x in range(len(y_pred))]\n",
    "\n",
    "    # Done\n",
    "    return model, y_pred, confu, gab, bag"
   ]
  },
  {
   "cell_type": "code",
   "execution_count": null,
   "metadata": {
    "collapsed": false,
    "jupyter": {
     "outputs_hidden": false
    }
   },
   "outputs": [],
   "source": [
    "import pandas as pd\n",
    "from sklearn.naive_bayes import BernoulliNB\n",
    "from sklearn.neighbors import KNeighborsClassifier\n",
    "\n",
    "\n",
    "df = pd.read_csv('tweets_public.csv', encoding='utf-8', index_col='tweet_id')\n",
    "dataset = obtain_data_representation(df)\n",
    "\n",
    "# Train a Bernoulli Naive Bayes\n",
    "modelNB, _, conf1, gcb, bag = train_model(dataset, BernoulliNB)\n",
    "\n",
    "# Train a K Nearest Neighbors Classifier\n",
    "modelKN, _, conf2, _, _ = train_model(dataset, KNeighborsClassifier)"
   ]
  },
  {
   "cell_type": "code",
   "execution_count": null,
   "metadata": {
    "collapsed": false,
    "jupyter": {
     "outputs_hidden": false
    }
   },
   "outputs": [],
   "source": [
    "import matplotlib.pyplot as plt\n",
    "\n",
    "def plot_confusion_matrix(cm, classes,\n",
    "                          normalize=False,\n",
    "                          title='Confusion matrix',\n",
    "                          cmap=plt.cm.Blues):\n",
    "    \"\"\"\n",
    "    This function prints and plots the confusion matrix.\n",
    "    Normalization can be applied by setting `normalize=True`.\n",
    "    \"\"\"\n",
    "    if normalize:\n",
    "        cm = cm.astype('float') / cm.sum(axis=1)[:, np.newaxis]\n",
    "        print(\"Normalized confusion matrix\")\n",
    "    else:\n",
    "        print('Confusion matrix, without normalization')\n",
    "\n",
    "    print(cm)\n",
    "\n",
    "    plt.imshow(cm, interpolation='nearest', cmap=cmap)\n",
    "    plt.title(title)\n",
    "    plt.colorbar()\n",
    "    tick_marks = np.arange(len(classes))\n",
    "    plt.xticks(tick_marks, classes, rotation=45)\n",
    "    plt.yticks(tick_marks, classes)\n",
    "\n",
    "    fmt = '.2f' if normalize else 'd'\n",
    "    thresh = cm.max() / 2.\n",
    "    for i, j in itertools.product(range(cm.shape[0]), range(cm.shape[1])):\n",
    "        plt.text(j, i, format(cm[i, j], fmt),\n",
    "                 horizontalalignment=\"center\",\n",
    "                 color=\"white\" if cm[i, j] > thresh else \"black\")\n",
    "\n",
    "    plt.tight_layout()\n",
    "    plt.ylabel('True label')\n",
    "    plt.xlabel('Predicted label')"
   ]
  },
  {
   "cell_type": "code",
   "execution_count": null,
   "metadata": {
    "collapsed": false,
    "jupyter": {
     "outputs_hidden": false
    }
   },
   "outputs": [],
   "source": [
    "%matplotlib inline\n",
    "import numpy as np\n",
    "import itertools\n",
    "\n",
    "plt.figure()\n",
    "plot_confusion_matrix(conf1, ['positive', 'neutral', 'negative'])\n",
    "plt.figure()\n",
    "plot_confusion_matrix(conf2, ['positive', 'neutral', 'negative'])"
   ]
  },
  {
   "cell_type": "markdown",
   "metadata": {},
   "source": [
    "## Submit file\n",
    "\n",
    "Once we have found the best model (BernoulliNB for the above simple test), we can train it with all the data (that is, avoid doing a train/test split) and predict sentiments for the real submission data.\n",
    "\n",
    "This cell below performs exactly this."
   ]
  },
  {
   "cell_type": "code",
   "execution_count": null,
   "metadata": {
    "collapsed": false,
    "jupyter": {
     "outputs_hidden": false
    }
   },
   "outputs": [],
   "source": [
    "#df2 = df_submission[~pd.isna(df_submission['text'])]\n",
    "df3 = pd.read_csv('tweets_private.csv', index_col='tweet_id')\n",
    "df3 = df3[pd.notna(df3.index)]\n",
    "\n",
    "df3[['airline_sentiment']].to_csv('tweets_private.csv')"
   ]
  },
  {
   "cell_type": "code",
   "execution_count": null,
   "metadata": {
    "collapsed": false,
    "jupyter": {
     "outputs_hidden": false
    }
   },
   "outputs": [],
   "source": [
    "import datetime\n",
    "\n",
    "def create_submit_file(df_submission, ypred):\n",
    "    date = datetime.datetime.now().strftime(\"%m_%d_%Y-%H_%M_%S\")\n",
    "    filename = 'submission_' + date + '.csv'\n",
    "    \n",
    "    df_submission['airline_sentiment'] = ypred\n",
    "    df_submission[['airline_sentiment']].to_csv(filename)\n",
    "    \n",
    "    print('Submission file created: {}'.format(filename))\n",
    "    print('Upload it to Kaggle InClass')\n",
    "\n",
    "    \n",
    "# Read submission and retrain with whole data\n",
    "df_submission = pd.read_csv('tweets_submission.csv', index_col='tweet_id')\n",
    "# We use df_submision as test, otherwise it would split df in train/test\n",
    "submission_dataset = obtain_data_representation(df, df_submission)\n",
    "# Predict for df_submission\n",
    "_, y_pred, _, _, _ = train_model(submission_dataset, BernoulliNB)\n",
    "\n",
    "# Create submission file with obtained y_pred\n",
    "create_submit_file(df_submission, y_pred)"
   ]
  }
 ],
 "metadata": {
  "kernelspec": {
   "display_name": "Python 3",
   "language": "python",
   "name": "python3"
  },
  "language_info": {
   "codemirror_mode": {
    "name": "ipython",
    "version": 3
   },
   "file_extension": ".py",
   "mimetype": "text/x-python",
   "name": "python",
   "nbconvert_exporter": "python",
   "pygments_lexer": "ipython3",
   "version": "3.6.9"
  }
 },
 "nbformat": 4,
 "nbformat_minor": 4
}
