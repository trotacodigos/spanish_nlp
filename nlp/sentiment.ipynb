{
 "cells": [
  {
   "cell_type": "markdown",
   "id": "f984e0ec-1100-4d48-a258-7180bdb7ac8f",
   "metadata": {},
   "source": [
    "## 감정 분석\n",
    "항공사 리뷰 데이터로 감정 분석하기 (트위터에 데이터 사용)"
   ]
  },
  {
   "cell_type": "code",
   "execution_count": 1,
   "id": "0f5c62c1-f6c5-469f-b500-214dee45ff38",
   "metadata": {},
   "outputs": [],
   "source": [
    "import pandas as pd\n",
    "import re, os\n",
    "pd.set_option('display.max_colwidth', 240)"
   ]
  },
  {
   "cell_type": "code",
   "execution_count": 2,
   "id": "aa4c49d5-6dff-486f-97f0-0daa9364368d",
   "metadata": {},
   "outputs": [
    {
     "data": {
      "text/html": [
       "<div>\n",
       "<style scoped>\n",
       "    .dataframe tbody tr th:only-of-type {\n",
       "        vertical-align: middle;\n",
       "    }\n",
       "\n",
       "    .dataframe tbody tr th {\n",
       "        vertical-align: top;\n",
       "    }\n",
       "\n",
       "    .dataframe thead th {\n",
       "        text-align: right;\n",
       "    }\n",
       "</style>\n",
       "<table border=\"1\" class=\"dataframe\">\n",
       "  <thead>\n",
       "    <tr style=\"text-align: right;\">\n",
       "      <th></th>\n",
       "      <th>airline_sentiment</th>\n",
       "      <th>is_reply</th>\n",
       "      <th>reply_count</th>\n",
       "      <th>retweet_count</th>\n",
       "      <th>text</th>\n",
       "      <th>tweet_coord</th>\n",
       "      <th>tweet_created</th>\n",
       "      <th>tweet_id</th>\n",
       "      <th>tweet_location</th>\n",
       "      <th>user_timezone</th>\n",
       "    </tr>\n",
       "  </thead>\n",
       "  <tbody>\n",
       "    <tr>\n",
       "      <th>5671</th>\n",
       "      <td>negative</td>\n",
       "      <td>True</td>\n",
       "      <td>0</td>\n",
       "      <td>0</td>\n",
       "      <td>@Iberia desde ayer por la noche están estudiando mi caso. Es sencillo: saqué un pasaje para llegar a gran Canaria a las dos y media.</td>\n",
       "      <td>NaN</td>\n",
       "      <td>Thu Oct 26 11:43:03 +0000 2017</td>\n",
       "      <td>923515314800939009</td>\n",
       "      <td>NaN</td>\n",
       "      <td>NaN</td>\n",
       "    </tr>\n",
       "  </tbody>\n",
       "</table>\n",
       "</div>"
      ],
      "text/plain": [
       "     airline_sentiment  is_reply  reply_count  retweet_count  \\\n",
       "5671          negative      True            0              0   \n",
       "\n",
       "                                                                                                                                      text  \\\n",
       "5671  @Iberia desde ayer por la noche están estudiando mi caso. Es sencillo: saqué un pasaje para llegar a gran Canaria a las dos y media.   \n",
       "\n",
       "     tweet_coord                   tweet_created            tweet_id  \\\n",
       "5671         NaN  Thu Oct 26 11:43:03 +0000 2017  923515314800939009   \n",
       "\n",
       "     tweet_location user_timezone  \n",
       "5671            NaN           NaN  "
      ]
     },
     "execution_count": 2,
     "metadata": {},
     "output_type": "execute_result"
    }
   ],
   "source": [
    "PATH = '../data/'\n",
    "FILE = os.path.join(PATH, 'tweets_public.csv')\n",
    "\n",
    "tweets = pd.read_csv(FILE)\n",
    "tweets.sample(1)"
   ]
  },
  {
   "cell_type": "code",
   "execution_count": 3,
   "id": "4363645d-b55b-4cab-bd0d-ccd5de27d884",
   "metadata": {},
   "outputs": [
    {
     "data": {
      "text/html": [
       "<div>\n",
       "<style scoped>\n",
       "    .dataframe tbody tr th:only-of-type {\n",
       "        vertical-align: middle;\n",
       "    }\n",
       "\n",
       "    .dataframe tbody tr th {\n",
       "        vertical-align: top;\n",
       "    }\n",
       "\n",
       "    .dataframe thead th {\n",
       "        text-align: right;\n",
       "    }\n",
       "</style>\n",
       "<table border=\"1\" class=\"dataframe\">\n",
       "  <thead>\n",
       "    <tr style=\"text-align: right;\">\n",
       "      <th></th>\n",
       "      <th>text</th>\n",
       "      <th>airline_sentiment</th>\n",
       "    </tr>\n",
       "  </thead>\n",
       "  <tbody>\n",
       "    <tr>\n",
       "      <th>398</th>\n",
       "      <td>@LosMorancos @Ryanair \"Sabré\" por experiencia, porque he volado mucho con ellos. \\n\\nPor supuesto que tú vuelas más q… https://t.co/VauzYAbulG</td>\n",
       "      <td>positive</td>\n",
       "    </tr>\n",
       "    <tr>\n",
       "      <th>4257</th>\n",
       "      <td>El personal de tierra de Ryanair en España convoca huelga el próximo día 30 de diciembre https://t.co/dPOYCHU4P2 https://t.co/niOgeOd2Sv</td>\n",
       "      <td>neutral</td>\n",
       "    </tr>\n",
       "    <tr>\n",
       "      <th>7029</th>\n",
       "      <td>Me ha gustado un vídeo de @YouTube (https://t.co/Ixs6t0Jbk2 - Ryanair passenger jumps out emergency exit in Malaga (Boeing 737)).</td>\n",
       "      <td>negative</td>\n",
       "    </tr>\n",
       "    <tr>\n",
       "      <th>7208</th>\n",
       "      <td>@Iberia RT POR FAVOR: PASAJEROS QUE IBERIA LES DEMORA LA DEVOLUCION DEL DINERO. JODAMOSLOS. RETUITEEMOS y COMPARTAM… https://t.co/74rih99A3p</td>\n",
       "      <td>negative</td>\n",
       "    </tr>\n",
       "    <tr>\n",
       "      <th>3457</th>\n",
       "      <td>El comité de empresa de Iberia convoca huelga en El Prat entre el 21 y 24 diciembre https://t.co/TjGUgKsuzQ</td>\n",
       "      <td>negative</td>\n",
       "    </tr>\n",
       "  </tbody>\n",
       "</table>\n",
       "</div>"
      ],
      "text/plain": [
       "                                                                                                                                                text  \\\n",
       "398   @LosMorancos @Ryanair \"Sabré\" por experiencia, porque he volado mucho con ellos. \\n\\nPor supuesto que tú vuelas más q… https://t.co/VauzYAbulG   \n",
       "4257        El personal de tierra de Ryanair en España convoca huelga el próximo día 30 de diciembre https://t.co/dPOYCHU4P2 https://t.co/niOgeOd2Sv   \n",
       "7029               Me ha gustado un vídeo de @YouTube (https://t.co/Ixs6t0Jbk2 - Ryanair passenger jumps out emergency exit in Malaga (Boeing 737)).   \n",
       "7208    @Iberia RT POR FAVOR: PASAJEROS QUE IBERIA LES DEMORA LA DEVOLUCION DEL DINERO. JODAMOSLOS. RETUITEEMOS y COMPARTAM… https://t.co/74rih99A3p   \n",
       "3457                                     El comité de empresa de Iberia convoca huelga en El Prat entre el 21 y 24 diciembre https://t.co/TjGUgKsuzQ   \n",
       "\n",
       "     airline_sentiment  \n",
       "398           positive  \n",
       "4257           neutral  \n",
       "7029          negative  \n",
       "7208          negative  \n",
       "3457          negative  "
      ]
     },
     "execution_count": 3,
     "metadata": {},
     "output_type": "execute_result"
    }
   ],
   "source": [
    "# text 정제를 위해서 text 열만 골라냄\n",
    "tweets = tweets.loc[:, ['text', 'airline_sentiment']]\n",
    "tweets.sample(5)"
   ]
  },
  {
   "cell_type": "code",
   "execution_count": 4,
   "id": "a8cc296c-ec76-4b97-a365-a13edbbf19e3",
   "metadata": {},
   "outputs": [
    {
     "data": {
      "text/html": [
       "<div>\n",
       "<style scoped>\n",
       "    .dataframe tbody tr th:only-of-type {\n",
       "        vertical-align: middle;\n",
       "    }\n",
       "\n",
       "    .dataframe tbody tr th {\n",
       "        vertical-align: top;\n",
       "    }\n",
       "\n",
       "    .dataframe thead th {\n",
       "        text-align: right;\n",
       "    }\n",
       "</style>\n",
       "<table border=\"1\" class=\"dataframe\">\n",
       "  <thead>\n",
       "    <tr style=\"text-align: right;\">\n",
       "      <th></th>\n",
       "      <th>text</th>\n",
       "      <th>airline_sentiment</th>\n",
       "      <th>at</th>\n",
       "    </tr>\n",
       "  </thead>\n",
       "  <tbody>\n",
       "    <tr>\n",
       "      <th>4979</th>\n",
       "      <td>Anuncian expansión de Iberia en Puerto Rico https://t.co/Ju6SBN9cXg https://t.co/N8oke0H9AE</td>\n",
       "      <td>negative</td>\n",
       "      <td>NaN</td>\n",
       "    </tr>\n",
       "    <tr>\n",
       "      <th>1228</th>\n",
       "      <td>#madrid #venezuela Ryanair sigue con las rebajas del Black Friday: billetes a 4,99 euros https://t.co/E7Kzttsma5 https://t.co/JNXm2W12sc</td>\n",
       "      <td>positive</td>\n",
       "      <td>NaN</td>\n",
       "    </tr>\n",
       "    <tr>\n",
       "      <th>1132</th>\n",
       "      <td>Qué decir de los 807 y llamadas internacionales @IBConsum @xiscod https://t.co/CxggUjemmJ</td>\n",
       "      <td>neutral</td>\n",
       "      <td>NaN</td>\n",
       "    </tr>\n",
       "    <tr>\n",
       "      <th>4808</th>\n",
       "      <td>Nicaragua quiere aprovechar a Iberia para promover su turismo en Europa https://t.co/xiFLMkf7sR vía @elnuevodiario</td>\n",
       "      <td>positive</td>\n",
       "      <td>NaN</td>\n",
       "    </tr>\n",
       "    <tr>\n",
       "      <th>5870</th>\n",
       "      <td>.@Alfa_Laval Iberia continua su plan de expansión con la apertura de un nuevo centro de servicio en #Madrid… https://t.co/YRNd656MPz</td>\n",
       "      <td>positive</td>\n",
       "      <td>NaN</td>\n",
       "    </tr>\n",
       "  </tbody>\n",
       "</table>\n",
       "</div>"
      ],
      "text/plain": [
       "                                                                                                                                          text  \\\n",
       "4979                                               Anuncian expansión de Iberia en Puerto Rico https://t.co/Ju6SBN9cXg https://t.co/N8oke0H9AE   \n",
       "1228  #madrid #venezuela Ryanair sigue con las rebajas del Black Friday: billetes a 4,99 euros https://t.co/E7Kzttsma5 https://t.co/JNXm2W12sc   \n",
       "1132                                                 Qué decir de los 807 y llamadas internacionales @IBConsum @xiscod https://t.co/CxggUjemmJ   \n",
       "4808                        Nicaragua quiere aprovechar a Iberia para promover su turismo en Europa https://t.co/xiFLMkf7sR vía @elnuevodiario   \n",
       "5870      .@Alfa_Laval Iberia continua su plan de expansión con la apertura de un nuevo centro de servicio en #Madrid… https://t.co/YRNd656MPz   \n",
       "\n",
       "     airline_sentiment   at  \n",
       "4979          negative  NaN  \n",
       "1228          positive  NaN  \n",
       "1132           neutral  NaN  \n",
       "4808          positive  NaN  \n",
       "5870          positive  NaN  "
      ]
     },
     "execution_count": 4,
     "metadata": {},
     "output_type": "execute_result"
    }
   ],
   "source": [
    "# @장소를 다른 열로 저장하기\n",
    "tweets['at'] = tweets.text.str.extract(r'^(@\\S+)')\n",
    "tweets.sample(5)"
   ]
  },
  {
   "cell_type": "code",
   "execution_count": 5,
   "id": "64a8570c-56ce-4c1f-9dac-547d00ff35fc",
   "metadata": {},
   "outputs": [
    {
     "data": {
      "text/html": [
       "<div>\n",
       "<style scoped>\n",
       "    .dataframe tbody tr th:only-of-type {\n",
       "        vertical-align: middle;\n",
       "    }\n",
       "\n",
       "    .dataframe tbody tr th {\n",
       "        vertical-align: top;\n",
       "    }\n",
       "\n",
       "    .dataframe thead th {\n",
       "        text-align: right;\n",
       "    }\n",
       "</style>\n",
       "<table border=\"1\" class=\"dataframe\">\n",
       "  <thead>\n",
       "    <tr style=\"text-align: right;\">\n",
       "      <th></th>\n",
       "      <th>text</th>\n",
       "      <th>airline_sentiment</th>\n",
       "      <th>at</th>\n",
       "    </tr>\n",
       "  </thead>\n",
       "  <tbody>\n",
       "    <tr>\n",
       "      <th>4558</th>\n",
       "      <td>Uno no deja de sorprenderse por la basura de la app de  A ver, ¿se puede saber cómo cojones se pueden busca…</td>\n",
       "      <td>negative</td>\n",
       "      <td>NaN</td>\n",
       "    </tr>\n",
       "    <tr>\n",
       "      <th>6525</th>\n",
       "      <td>Me encanta viajar y a mi pareja también... y aún no tengo regalo de reyes...y me sacarías del apuro Ryanair 😓</td>\n",
       "      <td>positive</td>\n",
       "      <td>@Ryanair_ES</td>\n",
       "    </tr>\n",
       "    <tr>\n",
       "      <th>5223</th>\n",
       "      <td>los vuelos donde he viajado usando avios más euros acumulan avios en la tarjeta iberia?</td>\n",
       "      <td>negative</td>\n",
       "      <td>@Iberia</td>\n",
       "    </tr>\n",
       "    <tr>\n",
       "      <th>3302</th>\n",
       "      <td>bueno nos gustaria tener la primera experiencia de viajar con ustedesd saludos</td>\n",
       "      <td>positive</td>\n",
       "      <td>@Iberia</td>\n",
       "    </tr>\n",
       "    <tr>\n",
       "      <th>7478</th>\n",
       "      <td>❤️❤️❤️ enhorabuena</td>\n",
       "      <td>neutral</td>\n",
       "      <td>NaN</td>\n",
       "    </tr>\n",
       "    <tr>\n",
       "      <th>4201</th>\n",
       "      <td>Los de Ryanair son unos cerdos. Deberían irse a pique. La compañía, no los vuelos, que seguro que algún hiperventilado salta.</td>\n",
       "      <td>negative</td>\n",
       "      <td>@sninobecerra</td>\n",
       "    </tr>\n",
       "    <tr>\n",
       "      <th>1032</th>\n",
       "      <td>Viajo en la aerolinea Level desde Barcelona, y combino con Ryanair. Todo low cost</td>\n",
       "      <td>neutral</td>\n",
       "      <td>@carreteandoblog</td>\n",
       "    </tr>\n",
       "    <tr>\n",
       "      <th>2485</th>\n",
       "      <td>Si yo llego tarde a un vuelo me jodo y tengo que pagar otro billete  se retrasa y lo máximo que te dicen…</td>\n",
       "      <td>negative</td>\n",
       "      <td>NaN</td>\n",
       "    </tr>\n",
       "    <tr>\n",
       "      <th>5779</th>\n",
       "      <td>Lejos de agilizarlo lo empeoró. Sin explicaciones, el personal hablándonos exclusivamente en italiano (intu…</td>\n",
       "      <td>negative</td>\n",
       "      <td>@Iberia</td>\n",
       "    </tr>\n",
       "    <tr>\n",
       "      <th>6271</th>\n",
       "      <td>Yo con gibson bastante air france iberia easyjet sin cargo ryanair cobro y mucho. Sismpre llevarla con…</td>\n",
       "      <td>neutral</td>\n",
       "      <td>@InfoViajera</td>\n",
       "    </tr>\n",
       "  </tbody>\n",
       "</table>\n",
       "</div>"
      ],
      "text/plain": [
       "                                                                                                                                text  \\\n",
       "4558                   Uno no deja de sorprenderse por la basura de la app de  A ver, ¿se puede saber cómo cojones se pueden busca…    \n",
       "6525                   Me encanta viajar y a mi pareja también... y aún no tengo regalo de reyes...y me sacarías del apuro Ryanair 😓   \n",
       "5223                                         los vuelos donde he viajado usando avios más euros acumulan avios en la tarjeta iberia?   \n",
       "3302                                                  bueno nos gustaria tener la primera experiencia de viajar con ustedesd saludos   \n",
       "7478                                                                                                            ❤️❤️❤️ enhorabuena     \n",
       "4201   Los de Ryanair son unos cerdos. Deberían irse a pique. La compañía, no los vuelos, que seguro que algún hiperventilado salta.   \n",
       "1032                                               Viajo en la aerolinea Level desde Barcelona, y combino con Ryanair. Todo low cost   \n",
       "2485                      Si yo llego tarde a un vuelo me jodo y tengo que pagar otro billete  se retrasa y lo máximo que te dicen…    \n",
       "5779                   Lejos de agilizarlo lo empeoró. Sin explicaciones, el personal hablándonos exclusivamente en italiano (intu…    \n",
       "6271                        Yo con gibson bastante air france iberia easyjet sin cargo ryanair cobro y mucho. Sismpre llevarla con…    \n",
       "\n",
       "     airline_sentiment                at  \n",
       "4558          negative               NaN  \n",
       "6525          positive       @Ryanair_ES  \n",
       "5223          negative           @Iberia  \n",
       "3302          positive           @Iberia  \n",
       "7478           neutral               NaN  \n",
       "4201          negative     @sninobecerra  \n",
       "1032           neutral  @carreteandoblog  \n",
       "2485          negative               NaN  \n",
       "5779          negative           @Iberia  \n",
       "6271           neutral      @InfoViajera  "
      ]
     },
     "execution_count": 5,
     "metadata": {},
     "output_type": "execute_result"
    }
   ],
   "source": [
    "# 텍스트에서 hashtag, @, http 제거하기\n",
    "def remove_handles(text):\n",
    "    return re.sub(r'@\\S+|https://\\S+|\\#', '', text) # @, hashtag, address 삭제\n",
    "\n",
    "tweets.text = tweets.text.apply(remove_handles)\n",
    "tweets.sample(10)"
   ]
  },
  {
   "cell_type": "markdown",
   "id": "6c3e2383-92c3-409d-b64f-fff5c5fb1f6a",
   "metadata": {},
   "source": [
    "### 감정분석\n",
    "- textblob: 영어밖에 지원이 안 됨. 스페인어->영어 변환 후 사용\n",
    "- sentiment_analysis_spanish"
   ]
  },
  {
   "cell_type": "code",
   "execution_count": 6,
   "id": "06242b84-4528-447a-9b67-175c07ff140f",
   "metadata": {},
   "outputs": [],
   "source": [
    "from textblob import TextBlob"
   ]
  },
  {
   "cell_type": "code",
   "execution_count": 7,
   "id": "7fc575d0-f5bb-46f1-b917-ddff18c302dc",
   "metadata": {},
   "outputs": [],
   "source": [
    "# es -> en 변환\n",
    "def get_tweet_sentiment(tweet):\n",
    "    analysis = TextBlob(tweet)\n",
    "    \n",
    "    language = analysis.detect_language()\n",
    "    if language == 'en':\n",
    "        analysis_ready = analysis\n",
    "    else: # 영어가 아닌 언어는 영어로 바꿈\n",
    "        analysis_ready = analysis.translate(to='en')\n",
    "\n",
    "    if analysis_ready.sentiment.polarity > 0: # polarity를 측정하는 메소드를 가짐\n",
    "        return 'positive'\n",
    "    elif analysis_ready.sentiment.polarity == 0: \n",
    "        return 'neutral'\n",
    "    else: \n",
    "        return 'negative'"
   ]
  },
  {
   "cell_type": "code",
   "execution_count": 8,
   "id": "a695860b-1b70-445e-be0a-e58fbf2ee0d9",
   "metadata": {},
   "outputs": [
    {
     "data": {
      "text/plain": [
       "Sentiment(polarity=-0.33181818181818185, subjectivity=0.6772727272727272)"
      ]
     },
     "execution_count": 8,
     "metadata": {},
     "output_type": "execute_result"
    }
   ],
   "source": [
    "# 예시\n",
    "sentence = 'I hate New York.'\n",
    "blob = TextBlob(sentence)\n",
    "blob.sentiment # [-1, 1]"
   ]
  },
  {
   "cell_type": "code",
   "execution_count": 9,
   "id": "e0d2b1ac-4116-4ce9-85c8-3047bb0de828",
   "metadata": {},
   "outputs": [
    {
     "data": {
      "text/plain": [
       "['Ahora si no hay excusa para ir a ver al mejor club del mundo  🇳🇮🇳🇮 gracias  y la gestión del… ']"
      ]
     },
     "execution_count": 9,
     "metadata": {},
     "output_type": "execute_result"
    }
   ],
   "source": [
    "# 랜덤으로 한 문장 뽑기\n",
    "sentence = tweets.text.sample(1).tolist()\n",
    "sentence"
   ]
  },
  {
   "cell_type": "code",
   "execution_count": 10,
   "id": "be17dc86-ffe2-48f7-9191-f9623a2984fd",
   "metadata": {},
   "outputs": [
    {
     "data": {
      "text/plain": [
       "'positive'"
      ]
     },
     "execution_count": 10,
     "metadata": {},
     "output_type": "execute_result"
    }
   ],
   "source": [
    "get_tweet_sentiment(sentence[0])"
   ]
  },
  {
   "cell_type": "markdown",
   "id": "b5841cf7-1dfd-4de3-a81f-fa9dd2b0989a",
   "metadata": {},
   "source": [
    "#### sentiment_analysis_spanish\n",
    "0~1로 표현. neg-pos"
   ]
  },
  {
   "cell_type": "code",
   "execution_count": 11,
   "id": "9ba1753c-7631-4d02-9346-0efece4b0887",
   "metadata": {},
   "outputs": [],
   "source": [
    "from sentiment_analysis_spanish import sentiment_analysis"
   ]
  },
  {
   "cell_type": "code",
   "execution_count": 14,
   "id": "91843601-9189-49a5-830e-0f2eb1c2e7dc",
   "metadata": {},
   "outputs": [
    {
     "name": "stdout",
     "output_type": "stream",
     "text": [
      "0.9304396176531412\n"
     ]
    }
   ],
   "source": [
    "#test\n",
    "senti_analizer = sentiment_analysis.SentimentAnalysisSpanish()\n",
    "print(senti_analizer.sentiment(\"Me gusta la tombola. Es genial.\")) # positive"
   ]
  },
  {
   "cell_type": "code",
   "execution_count": 15,
   "id": "93431cee-0881-41c1-ab48-c26ea4f58a97",
   "metadata": {},
   "outputs": [
    {
     "data": {
      "text/html": [
       "<div>\n",
       "<style scoped>\n",
       "    .dataframe tbody tr th:only-of-type {\n",
       "        vertical-align: middle;\n",
       "    }\n",
       "\n",
       "    .dataframe tbody tr th {\n",
       "        vertical-align: top;\n",
       "    }\n",
       "\n",
       "    .dataframe thead th {\n",
       "        text-align: right;\n",
       "    }\n",
       "</style>\n",
       "<table border=\"1\" class=\"dataframe\">\n",
       "  <thead>\n",
       "    <tr style=\"text-align: right;\">\n",
       "      <th></th>\n",
       "      <th>text</th>\n",
       "      <th>airline_sentiment</th>\n",
       "      <th>at</th>\n",
       "      <th>polarity</th>\n",
       "    </tr>\n",
       "  </thead>\n",
       "  <tbody>\n",
       "    <tr>\n",
       "      <th>0</th>\n",
       "      <td>Trabajar en Ryanair como TMA:  empleo</td>\n",
       "      <td>neutral</td>\n",
       "      <td>NaN</td>\n",
       "      <td>0.230391</td>\n",
       "    </tr>\n",
       "    <tr>\n",
       "      <th>1</th>\n",
       "      <td>Cuando gusten en Cancún se viaja y disfruta de manera sin igual</td>\n",
       "      <td>neutral</td>\n",
       "      <td>@Iberia</td>\n",
       "      <td>0.025044</td>\n",
       "    </tr>\n",
       "    <tr>\n",
       "      <th>2</th>\n",
       "      <td>Sabiais que  te trata muy bien en santiago de chile?Te cambia el asiento,te manda a volar en el wc trasero,e…</td>\n",
       "      <td>negative</td>\n",
       "      <td>NaN</td>\n",
       "      <td>0.350941</td>\n",
       "    </tr>\n",
       "  </tbody>\n",
       "</table>\n",
       "</div>"
      ],
      "text/plain": [
       "                                                                                                             text  \\\n",
       "0                                                                           Trabajar en Ryanair como TMA:  empleo   \n",
       "1                                                 Cuando gusten en Cancún se viaja y disfruta de manera sin igual   \n",
       "2  Sabiais que  te trata muy bien en santiago de chile?Te cambia el asiento,te manda a volar en el wc trasero,e…    \n",
       "\n",
       "  airline_sentiment       at  polarity  \n",
       "0           neutral      NaN  0.230391  \n",
       "1           neutral  @Iberia  0.025044  \n",
       "2          negative      NaN  0.350941  "
      ]
     },
     "execution_count": 15,
     "metadata": {},
     "output_type": "execute_result"
    }
   ],
   "source": [
    "tweets['polarity'] = tweets.text.apply(senti_analizer.sentiment)\n",
    "tweets.head(3)"
   ]
  },
  {
   "cell_type": "code",
   "execution_count": 16,
   "id": "0699ef57-73e0-4b13-b71d-236fc4f15890",
   "metadata": {},
   "outputs": [
    {
     "data": {
      "text/html": [
       "<div>\n",
       "<style scoped>\n",
       "    .dataframe tbody tr th:only-of-type {\n",
       "        vertical-align: middle;\n",
       "    }\n",
       "\n",
       "    .dataframe tbody tr th {\n",
       "        vertical-align: top;\n",
       "    }\n",
       "\n",
       "    .dataframe thead th {\n",
       "        text-align: right;\n",
       "    }\n",
       "</style>\n",
       "<table border=\"1\" class=\"dataframe\">\n",
       "  <thead>\n",
       "    <tr style=\"text-align: right;\">\n",
       "      <th></th>\n",
       "      <th>text</th>\n",
       "      <th>airline_sentiment</th>\n",
       "      <th>at</th>\n",
       "      <th>polarity</th>\n",
       "    </tr>\n",
       "  </thead>\n",
       "  <tbody>\n",
       "    <tr>\n",
       "      <th>3216</th>\n",
       "      <td>Vistas que no tenemos todos los días. Un A330 de Iberia en aproximación por el centro de Madrid</td>\n",
       "      <td>neutral</td>\n",
       "      <td>NaN</td>\n",
       "      <td>1.000000</td>\n",
       "    </tr>\n",
       "    <tr>\n",
       "      <th>1536</th>\n",
       "      <td>Iberia tendrá nuevas conexiones en 2018 desde el aeropuerto de Madrid hacia Managua y San Francisco…</td>\n",
       "      <td>positive</td>\n",
       "      <td>NaN</td>\n",
       "      <td>1.000000</td>\n",
       "    </tr>\n",
       "    <tr>\n",
       "      <th>5240</th>\n",
       "      <td>La aerolínea  tendrá nuevas conexiones en 2018 desde el aeropuerto de Madrid hacia Managua y SanFrancisco</td>\n",
       "      <td>positive</td>\n",
       "      <td>NaN</td>\n",
       "      <td>1.000000</td>\n",
       "    </tr>\n",
       "    <tr>\n",
       "      <th>92</th>\n",
       "      <td>La aerolínea  tendrá nuevas conexiones en 2018 desde el aeropuerto de Madrid hacia Managua y SanFrancisco</td>\n",
       "      <td>neutral</td>\n",
       "      <td>NaN</td>\n",
       "      <td>1.000000</td>\n",
       "    </tr>\n",
       "    <tr>\n",
       "      <th>6808</th>\n",
       "      <td>Samsung e Iberia sorprenden a los viajeros de un vuelo de Madrid a La Coruña con un «regalazo»  vía</td>\n",
       "      <td>positive</td>\n",
       "      <td>NaN</td>\n",
       "      <td>1.000000</td>\n",
       "    </tr>\n",
       "    <tr>\n",
       "      <th>3403</th>\n",
       "      <td>Samsung e Iberia sorprenden a los viajeros de un vuelo de Madrid a La Coruña con un «regalazo»  vía</td>\n",
       "      <td>positive</td>\n",
       "      <td>NaN</td>\n",
       "      <td>1.000000</td>\n",
       "    </tr>\n",
       "    <tr>\n",
       "      <th>2909</th>\n",
       "      <td>muchas gracias al personal de Business en aeropuerto de Madrid.La ayuda en situación complicada muestra su gran profesionalidad</td>\n",
       "      <td>positive</td>\n",
       "      <td>@Iberia</td>\n",
       "      <td>1.000000</td>\n",
       "    </tr>\n",
       "    <tr>\n",
       "      <th>5208</th>\n",
       "      <td>Iberia remodela su zona VIP del aeropuerto de Madrid con muchas comodidades:</td>\n",
       "      <td>positive</td>\n",
       "      <td>NaN</td>\n",
       "      <td>0.999999</td>\n",
       "    </tr>\n",
       "    <tr>\n",
       "      <th>7001</th>\n",
       "      <td>Un muy buen destino, me encantó 👋👋👋</td>\n",
       "      <td>positive</td>\n",
       "      <td>@AParayas</td>\n",
       "      <td>0.999998</td>\n",
       "    </tr>\n",
       "    <tr>\n",
       "      <th>4468</th>\n",
       "      <td>Iberia inaugura un nuevo espacio Premium en el aeropuerto de Madrid</td>\n",
       "      <td>neutral</td>\n",
       "      <td>NaN</td>\n",
       "      <td>0.999998</td>\n",
       "    </tr>\n",
       "  </tbody>\n",
       "</table>\n",
       "</div>"
      ],
      "text/plain": [
       "                                                                                                                                  text  \\\n",
       "3216                                 Vistas que no tenemos todos los días. Un A330 de Iberia en aproximación por el centro de Madrid     \n",
       "1536                             Iberia tendrá nuevas conexiones en 2018 desde el aeropuerto de Madrid hacia Managua y San Francisco…    \n",
       "5240                        La aerolínea  tendrá nuevas conexiones en 2018 desde el aeropuerto de Madrid hacia Managua y SanFrancisco    \n",
       "92                          La aerolínea  tendrá nuevas conexiones en 2018 desde el aeropuerto de Madrid hacia Managua y SanFrancisco    \n",
       "6808                              Samsung e Iberia sorprenden a los viajeros de un vuelo de Madrid a La Coruña con un «regalazo»  vía    \n",
       "3403                              Samsung e Iberia sorprenden a los viajeros de un vuelo de Madrid a La Coruña con un «regalazo»  vía    \n",
       "2909   muchas gracias al personal de Business en aeropuerto de Madrid.La ayuda en situación complicada muestra su gran profesionalidad   \n",
       "5208                                                     Iberia remodela su zona VIP del aeropuerto de Madrid con muchas comodidades:    \n",
       "7001                                                                                               Un muy buen destino, me encantó 👋👋👋   \n",
       "4468                                                              Iberia inaugura un nuevo espacio Premium en el aeropuerto de Madrid    \n",
       "\n",
       "     airline_sentiment         at  polarity  \n",
       "3216           neutral        NaN  1.000000  \n",
       "1536          positive        NaN  1.000000  \n",
       "5240          positive        NaN  1.000000  \n",
       "92             neutral        NaN  1.000000  \n",
       "6808          positive        NaN  1.000000  \n",
       "3403          positive        NaN  1.000000  \n",
       "2909          positive    @Iberia  1.000000  \n",
       "5208          positive        NaN  0.999999  \n",
       "7001          positive  @AParayas  0.999998  \n",
       "4468           neutral        NaN  0.999998  "
      ]
     },
     "execution_count": 16,
     "metadata": {},
     "output_type": "execute_result"
    }
   ],
   "source": [
    "# sorting\n",
    "tweets.sort_values(by=['polarity'], ascending=False).head(10)"
   ]
  },
  {
   "cell_type": "code",
   "execution_count": 17,
   "id": "46711a5b-5c5b-46ad-8c3c-ab30c325c90c",
   "metadata": {},
   "outputs": [
    {
     "data": {
      "text/html": [
       "<div>\n",
       "<style scoped>\n",
       "    .dataframe tbody tr th:only-of-type {\n",
       "        vertical-align: middle;\n",
       "    }\n",
       "\n",
       "    .dataframe tbody tr th {\n",
       "        vertical-align: top;\n",
       "    }\n",
       "\n",
       "    .dataframe thead th {\n",
       "        text-align: right;\n",
       "    }\n",
       "</style>\n",
       "<table border=\"1\" class=\"dataframe\">\n",
       "  <thead>\n",
       "    <tr style=\"text-align: right;\">\n",
       "      <th></th>\n",
       "      <th>text</th>\n",
       "      <th>airline_sentiment</th>\n",
       "      <th>at</th>\n",
       "      <th>polarity</th>\n",
       "      <th>label</th>\n",
       "    </tr>\n",
       "  </thead>\n",
       "  <tbody>\n",
       "    <tr>\n",
       "      <th>0</th>\n",
       "      <td>Trabajar en Ryanair como TMA:  empleo</td>\n",
       "      <td>neutral</td>\n",
       "      <td>NaN</td>\n",
       "      <td>0.230391</td>\n",
       "      <td>negative</td>\n",
       "    </tr>\n",
       "    <tr>\n",
       "      <th>1</th>\n",
       "      <td>Cuando gusten en Cancún se viaja y disfruta de manera sin igual</td>\n",
       "      <td>neutral</td>\n",
       "      <td>@Iberia</td>\n",
       "      <td>0.025044</td>\n",
       "      <td>negative</td>\n",
       "    </tr>\n",
       "    <tr>\n",
       "      <th>2</th>\n",
       "      <td>Sabiais que  te trata muy bien en santiago de chile?Te cambia el asiento,te manda a volar en el wc trasero,e…</td>\n",
       "      <td>negative</td>\n",
       "      <td>NaN</td>\n",
       "      <td>0.350941</td>\n",
       "      <td>negative</td>\n",
       "    </tr>\n",
       "    <tr>\n",
       "      <th>3</th>\n",
       "      <td>NUNCA NUNCA NUNCA pidáis el café de Ryanair.\\nBueno, nada que vendan a bordo.</td>\n",
       "      <td>negative</td>\n",
       "      <td>NaN</td>\n",
       "      <td>0.000305</td>\n",
       "      <td>negative</td>\n",
       "    </tr>\n",
       "    <tr>\n",
       "      <th>4</th>\n",
       "      <td>Muchos éxito…</td>\n",
       "      <td>positive</td>\n",
       "      <td>@cris_tortu</td>\n",
       "      <td>0.555005</td>\n",
       "      <td>positive</td>\n",
       "    </tr>\n",
       "  </tbody>\n",
       "</table>\n",
       "</div>"
      ],
      "text/plain": [
       "                                                                                                             text  \\\n",
       "0                                                                           Trabajar en Ryanair como TMA:  empleo   \n",
       "1                                                 Cuando gusten en Cancún se viaja y disfruta de manera sin igual   \n",
       "2  Sabiais que  te trata muy bien en santiago de chile?Te cambia el asiento,te manda a volar en el wc trasero,e…    \n",
       "3                                   NUNCA NUNCA NUNCA pidáis el café de Ryanair.\\nBueno, nada que vendan a bordo.   \n",
       "4                                                                                                  Muchos éxito…    \n",
       "\n",
       "  airline_sentiment           at  polarity     label  \n",
       "0           neutral          NaN  0.230391  negative  \n",
       "1           neutral      @Iberia  0.025044  negative  \n",
       "2          negative          NaN  0.350941  negative  \n",
       "3          negative          NaN  0.000305  negative  \n",
       "4          positive  @cris_tortu  0.555005  positive  "
      ]
     },
     "execution_count": 17,
     "metadata": {},
     "output_type": "execute_result"
    }
   ],
   "source": [
    "#option 1. polarity 점수 구간에 따라 레이블을 positive, negative로 나누기 (2가지)\n",
    "\n",
    "tweets['label'] = tweets.polarity.apply(lambda x: 'positive' if x >= 0.5 else 'negative')\n",
    "tweets.head(5)"
   ]
  },
  {
   "cell_type": "code",
   "execution_count": 18,
   "id": "c16ebe71-7f0d-48b3-97ae-75fbf507251f",
   "metadata": {},
   "outputs": [
    {
     "data": {
      "text/html": [
       "<div>\n",
       "<style scoped>\n",
       "    .dataframe tbody tr th:only-of-type {\n",
       "        vertical-align: middle;\n",
       "    }\n",
       "\n",
       "    .dataframe tbody tr th {\n",
       "        vertical-align: top;\n",
       "    }\n",
       "\n",
       "    .dataframe thead th {\n",
       "        text-align: right;\n",
       "    }\n",
       "</style>\n",
       "<table border=\"1\" class=\"dataframe\">\n",
       "  <thead>\n",
       "    <tr style=\"text-align: right;\">\n",
       "      <th></th>\n",
       "      <th>text</th>\n",
       "      <th>airline_sentiment</th>\n",
       "      <th>at</th>\n",
       "      <th>polarity</th>\n",
       "      <th>label</th>\n",
       "    </tr>\n",
       "  </thead>\n",
       "  <tbody>\n",
       "    <tr>\n",
       "      <th>0</th>\n",
       "      <td>Trabajar en Ryanair como TMA:  empleo</td>\n",
       "      <td>neutral</td>\n",
       "      <td>NaN</td>\n",
       "      <td>0.230391</td>\n",
       "      <td>0</td>\n",
       "    </tr>\n",
       "    <tr>\n",
       "      <th>1</th>\n",
       "      <td>Cuando gusten en Cancún se viaja y disfruta de manera sin igual</td>\n",
       "      <td>neutral</td>\n",
       "      <td>@Iberia</td>\n",
       "      <td>0.025044</td>\n",
       "      <td>0</td>\n",
       "    </tr>\n",
       "    <tr>\n",
       "      <th>2</th>\n",
       "      <td>Sabiais que  te trata muy bien en santiago de chile?Te cambia el asiento,te manda a volar en el wc trasero,e…</td>\n",
       "      <td>negative</td>\n",
       "      <td>NaN</td>\n",
       "      <td>0.350941</td>\n",
       "      <td>2</td>\n",
       "    </tr>\n",
       "    <tr>\n",
       "      <th>3</th>\n",
       "      <td>NUNCA NUNCA NUNCA pidáis el café de Ryanair.\\nBueno, nada que vendan a bordo.</td>\n",
       "      <td>negative</td>\n",
       "      <td>NaN</td>\n",
       "      <td>0.000305</td>\n",
       "      <td>2</td>\n",
       "    </tr>\n",
       "    <tr>\n",
       "      <th>4</th>\n",
       "      <td>Muchos éxito…</td>\n",
       "      <td>positive</td>\n",
       "      <td>@cris_tortu</td>\n",
       "      <td>0.555005</td>\n",
       "      <td>1</td>\n",
       "    </tr>\n",
       "  </tbody>\n",
       "</table>\n",
       "</div>"
      ],
      "text/plain": [
       "                                                                                                             text  \\\n",
       "0                                                                           Trabajar en Ryanair como TMA:  empleo   \n",
       "1                                                 Cuando gusten en Cancún se viaja y disfruta de manera sin igual   \n",
       "2  Sabiais que  te trata muy bien en santiago de chile?Te cambia el asiento,te manda a volar en el wc trasero,e…    \n",
       "3                                   NUNCA NUNCA NUNCA pidáis el café de Ryanair.\\nBueno, nada que vendan a bordo.   \n",
       "4                                                                                                  Muchos éxito…    \n",
       "\n",
       "  airline_sentiment           at  polarity  label  \n",
       "0           neutral          NaN  0.230391      0  \n",
       "1           neutral      @Iberia  0.025044      0  \n",
       "2          negative          NaN  0.350941      2  \n",
       "3          negative          NaN  0.000305      2  \n",
       "4          positive  @cris_tortu  0.555005      1  "
      ]
     },
     "execution_count": 18,
     "metadata": {},
     "output_type": "execute_result"
    }
   ],
   "source": [
    "#option 2. airline_sentiment에 따라 나누기 (3가지)\n",
    "\n",
    "def tag_label(sentiment):\n",
    "    sentiment = sentiment.lower()\n",
    "    \n",
    "    if sentiment == 'neutral':\n",
    "        return 0\n",
    "    elif sentiment == 'positive':\n",
    "        return 1\n",
    "    else:\n",
    "        return 2\n",
    "        \n",
    "tweets['label'] = tweets.airline_sentiment.apply(tag_label)\n",
    "tweets.head(5)"
   ]
  },
  {
   "cell_type": "markdown",
   "id": "8a3eb2af-4f1a-480e-aadf-cf61d228cb6a",
   "metadata": {},
   "source": [
    "#### visualization"
   ]
  },
  {
   "cell_type": "code",
   "execution_count": 27,
   "id": "8743d2ad-7dfe-4b2f-8f71-c4609fba4794",
   "metadata": {},
   "outputs": [],
   "source": [
    "import matplotlib.pyplot as plt\n",
    "import seaborn as sns"
   ]
  },
  {
   "cell_type": "code",
   "execution_count": 19,
   "id": "a3c51e9a-eabd-43f3-94e8-f51cb3bc7294",
   "metadata": {},
   "outputs": [
    {
     "data": {
      "text/plain": [
       "2    3769\n",
       "0    2609\n",
       "1    1489\n",
       "Name: label, dtype: int64"
      ]
     },
     "execution_count": 19,
     "metadata": {},
     "output_type": "execute_result"
    }
   ],
   "source": [
    "tweets.label.value_counts() # 주로 부정적인 데이터가 많음."
   ]
  },
  {
   "cell_type": "code",
   "execution_count": 28,
   "id": "cb81d976-845c-4fe5-b7a6-801373b382c6",
   "metadata": {},
   "outputs": [
    {
     "name": "stderr",
     "output_type": "stream",
     "text": [
      "/usr/local/lib/python3.6/dist-packages/seaborn/_decorators.py:43: FutureWarning: Pass the following variable as a keyword arg: x. From version 0.12, the only valid positional argument will be `data`, and passing other arguments without an explicit keyword will result in an error or misinterpretation.\n",
      "  FutureWarning\n"
     ]
    },
    {
     "data": {
      "image/png": "[encoded data removed]",
      "text/plain": [
       "<Figure size 720x216 with 1 Axes>"
      ]
     },
     "metadata": {
      "needs_background": "light"
     },
     "output_type": "display_data"
    }
   ],
   "source": [
    "fig, axe = plt.subplots(ncols=1)\n",
    "fig.set_size_inches(10, 3)\n",
    "sns.countplot(tweets.label)\n",
    "plt.show()"
   ]
  },
  {
   "cell_type": "code",
   "execution_count": 20,
   "id": "4a1f470f-5a8a-47b2-8556-d23709ff87dd",
   "metadata": {},
   "outputs": [],
   "source": [
    "# 파일로 저장\n",
    "out_file = os.path.join(PATH, 'tweets_public_polarity.csv')\n",
    "tweets.to_csv(out_file, sep='\\t', encoding='utf-8')"
   ]
  },
  {
   "cell_type": "markdown",
   "id": "8b7df617-b2fd-443f-b569-0f2706c313f6",
   "metadata": {},
   "source": []
  }
 ],
 "metadata": {
  "kernelspec": {
   "display_name": "Python 3",
   "language": "python",
   "name": "python3"
  },
  "language_info": {
   "codemirror_mode": {
    "name": "ipython",
    "version": 3
   },
   "file_extension": ".py",
   "mimetype": "text/x-python",
   "name": "python",
   "nbconvert_exporter": "python",
   "pygments_lexer": "ipython3",
   "version": "3.6.9"
  }
 },
 "nbformat": 4,
 "nbformat_minor": 5
}
