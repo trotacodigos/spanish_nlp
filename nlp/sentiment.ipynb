{
 "cells": [
  {
   "cell_type": "markdown",
   "id": "f984e0ec-1100-4d48-a258-7180bdb7ac8f",
   "metadata": {},
   "source": [
    "## 감정 분석\n",
    "항공사 리뷰 데이터로 감정 분석하기 (트위터에 데이터 사용)"
   ]
  },
  {
   "cell_type": "code",
   "execution_count": 3,
   "id": "0f5c62c1-f6c5-469f-b500-214dee45ff38",
   "metadata": {},
   "outputs": [],
   "source": [
    "import pandas as pd\n",
    "import re, os\n",
    "pd.set_option('display.max_colwidth', 240)"
   ]
  },
  {
   "cell_type": "code",
   "execution_count": 56,
   "id": "aa4c49d5-6dff-486f-97f0-0daa9364368d",
   "metadata": {},
   "outputs": [
    {
     "data": {
      "text/html": [
       "<div>\n",
       "<style scoped>\n",
       "    .dataframe tbody tr th:only-of-type {\n",
       "        vertical-align: middle;\n",
       "    }\n",
       "\n",
       "    .dataframe tbody tr th {\n",
       "        vertical-align: top;\n",
       "    }\n",
       "\n",
       "    .dataframe thead th {\n",
       "        text-align: right;\n",
       "    }\n",
       "</style>\n",
       "<table border=\"1\" class=\"dataframe\">\n",
       "  <thead>\n",
       "    <tr style=\"text-align: right;\">\n",
       "      <th></th>\n",
       "      <th>airline_sentiment</th>\n",
       "      <th>is_reply</th>\n",
       "      <th>reply_count</th>\n",
       "      <th>retweet_count</th>\n",
       "      <th>text</th>\n",
       "      <th>tweet_coord</th>\n",
       "      <th>tweet_created</th>\n",
       "      <th>tweet_id</th>\n",
       "      <th>tweet_location</th>\n",
       "      <th>user_timezone</th>\n",
       "    </tr>\n",
       "  </thead>\n",
       "  <tbody>\n",
       "    <tr>\n",
       "      <th>5741</th>\n",
       "      <td>positive</td>\n",
       "      <td>False</td>\n",
       "      <td>0</td>\n",
       "      <td>0</td>\n",
       "      <td>Aerolínea Ryanair reconoce sindicatos para evitar huelgas https://t.co/eyDhhQW778</td>\n",
       "      <td>NaN</td>\n",
       "      <td>Fri Dec 15 13:51:03 +0000 2017</td>\n",
       "      <td>941666919534313473</td>\n",
       "      <td>NaN</td>\n",
       "      <td>Pacific Time (US &amp; Canada)</td>\n",
       "    </tr>\n",
       "  </tbody>\n",
       "</table>\n",
       "</div>"
      ],
      "text/plain": [
       "     airline_sentiment  is_reply  reply_count  retweet_count  \\\n",
       "5741          positive     False            0              0   \n",
       "\n",
       "                                                                                   text  \\\n",
       "5741  Aerolínea Ryanair reconoce sindicatos para evitar huelgas https://t.co/eyDhhQW778   \n",
       "\n",
       "     tweet_coord                   tweet_created            tweet_id  \\\n",
       "5741         NaN  Fri Dec 15 13:51:03 +0000 2017  941666919534313473   \n",
       "\n",
       "     tweet_location               user_timezone  \n",
       "5741            NaN  Pacific Time (US & Canada)  "
      ]
     },
     "execution_count": 56,
     "metadata": {},
     "output_type": "execute_result"
    }
   ],
   "source": [
    "PATH = '../data/'\n",
    "FILE = os.path.join(PATH, 'es-airlines-tweets', 'tweets_public.csv')\n",
    "\n",
    "tweets = pd.read_csv(FILE)\n",
    "tweets.sample(1)"
   ]
  },
  {
   "cell_type": "code",
   "execution_count": 57,
   "id": "4363645d-b55b-4cab-bd0d-ccd5de27d884",
   "metadata": {},
   "outputs": [
    {
     "data": {
      "text/html": [
       "<div>\n",
       "<style scoped>\n",
       "    .dataframe tbody tr th:only-of-type {\n",
       "        vertical-align: middle;\n",
       "    }\n",
       "\n",
       "    .dataframe tbody tr th {\n",
       "        vertical-align: top;\n",
       "    }\n",
       "\n",
       "    .dataframe thead th {\n",
       "        text-align: right;\n",
       "    }\n",
       "</style>\n",
       "<table border=\"1\" class=\"dataframe\">\n",
       "  <thead>\n",
       "    <tr style=\"text-align: right;\">\n",
       "      <th></th>\n",
       "      <th>text</th>\n",
       "      <th>airline_sentiment</th>\n",
       "    </tr>\n",
       "  </thead>\n",
       "  <tbody>\n",
       "    <tr>\n",
       "      <th>5733</th>\n",
       "      <td>@Iberia FAVOR COMPARTIR. QUE PASA CON IBERIA QUE COBRAN INSTANTANEAMENTE LAS VENTAS PERO CUANDO TIENEN QUE DEVOLVER… https://t.co/wXZsRibIju</td>\n",
       "      <td>negative</td>\n",
       "    </tr>\n",
       "    <tr>\n",
       "      <th>1796</th>\n",
       "      <td>@Iberia Hace cuatro días me dicen que procedían a darme la indemnizaciòn y aquí sigo esperándola... Desde el mes de agosto, vergonzoso.</td>\n",
       "      <td>negative</td>\n",
       "    </tr>\n",
       "    <tr>\n",
       "      <th>6006</th>\n",
       "      <td>@ivan_cortina @Iberia A @SupermanlopezN le dañaron un trofeo y la bici llego días después generando descanso obliga… https://t.co/MTiqubUFSa</td>\n",
       "      <td>negative</td>\n",
       "    </tr>\n",
       "    <tr>\n",
       "      <th>6106</th>\n",
       "      <td>Otra cosa, Ryanair, ya me puedes sentar sola en un avión lleno de bebés que no pienso pagar por elegir asiento.</td>\n",
       "      <td>negative</td>\n",
       "    </tr>\n",
       "    <tr>\n",
       "      <th>5406</th>\n",
       "      <td>Unas idiotas se me han colado, pero les han hecho dejar el equipaje de mano en la bodega. Llámalo karma, ¡yo lo llamo Ryanair! 🙋🏻‍♂️</td>\n",
       "      <td>negative</td>\n",
       "    </tr>\n",
       "  </tbody>\n",
       "</table>\n",
       "</div>"
      ],
      "text/plain": [
       "                                                                                                                                              text  \\\n",
       "5733  @Iberia FAVOR COMPARTIR. QUE PASA CON IBERIA QUE COBRAN INSTANTANEAMENTE LAS VENTAS PERO CUANDO TIENEN QUE DEVOLVER… https://t.co/wXZsRibIju   \n",
       "1796       @Iberia Hace cuatro días me dicen que procedían a darme la indemnizaciòn y aquí sigo esperándola... Desde el mes de agosto, vergonzoso.   \n",
       "6006  @ivan_cortina @Iberia A @SupermanlopezN le dañaron un trofeo y la bici llego días después generando descanso obliga… https://t.co/MTiqubUFSa   \n",
       "6106                               Otra cosa, Ryanair, ya me puedes sentar sola en un avión lleno de bebés que no pienso pagar por elegir asiento.   \n",
       "5406          Unas idiotas se me han colado, pero les han hecho dejar el equipaje de mano en la bodega. Llámalo karma, ¡yo lo llamo Ryanair! 🙋🏻‍♂️   \n",
       "\n",
       "     airline_sentiment  \n",
       "5733          negative  \n",
       "1796          negative  \n",
       "6006          negative  \n",
       "6106          negative  \n",
       "5406          negative  "
      ]
     },
     "execution_count": 57,
     "metadata": {},
     "output_type": "execute_result"
    }
   ],
   "source": [
    "# text 정제를 위해서 text 열만 골라냄ㄴ\n",
    "tweets = tweets.loc[:, ['text', 'airline_sentiment']]\n",
    "tweets.sample(5)"
   ]
  },
  {
   "cell_type": "code",
   "execution_count": 58,
   "id": "a8cc296c-ec76-4b97-a365-a13edbbf19e3",
   "metadata": {},
   "outputs": [
    {
     "data": {
      "text/html": [
       "<div>\n",
       "<style scoped>\n",
       "    .dataframe tbody tr th:only-of-type {\n",
       "        vertical-align: middle;\n",
       "    }\n",
       "\n",
       "    .dataframe tbody tr th {\n",
       "        vertical-align: top;\n",
       "    }\n",
       "\n",
       "    .dataframe thead th {\n",
       "        text-align: right;\n",
       "    }\n",
       "</style>\n",
       "<table border=\"1\" class=\"dataframe\">\n",
       "  <thead>\n",
       "    <tr style=\"text-align: right;\">\n",
       "      <th></th>\n",
       "      <th>text</th>\n",
       "      <th>airline_sentiment</th>\n",
       "      <th>at</th>\n",
       "    </tr>\n",
       "  </thead>\n",
       "  <tbody>\n",
       "    <tr>\n",
       "      <th>455</th>\n",
       "      <td>@Iberia por qué no puedo hacer el checking de mi vuelo IB3167? https://t.co/cauYpRzU2I</td>\n",
       "      <td>neutral</td>\n",
       "      <td>@Iberia</td>\n",
       "    </tr>\n",
       "    <tr>\n",
       "      <th>2253</th>\n",
       "      <td>Iberia aumentará sus vuelos semanales de la ruta Buenos Aires-Madrid en 2018 https://t.co/pfQQ95bOAu #NoTextAndDrive https://t.co/yu3ukqZmNK</td>\n",
       "      <td>neutral</td>\n",
       "      <td>NaN</td>\n",
       "    </tr>\n",
       "    <tr>\n",
       "      <th>5700</th>\n",
       "      <td>No volveré a viajar en IBERIA, pésima atención: perdieron mi maleta y regresó después de 5 meses, con 17 kilos menos https://t.co/0i4rDE9cG9</td>\n",
       "      <td>negative</td>\n",
       "      <td>NaN</td>\n",
       "    </tr>\n",
       "    <tr>\n",
       "      <th>1575</th>\n",
       "      <td>@Iberia sabemos si se cancela este vuelo?? Gracias! https://t.co/YTxlmAl8Dj</td>\n",
       "      <td>neutral</td>\n",
       "      <td>@Iberia</td>\n",
       "    </tr>\n",
       "    <tr>\n",
       "      <th>3280</th>\n",
       "      <td>El canal Smithsonian recrea en un vídeo el accidente de Spanair en Barajas  #JK5022 https://t.co/d65ds4Muic</td>\n",
       "      <td>neutral</td>\n",
       "      <td>NaN</td>\n",
       "    </tr>\n",
       "  </tbody>\n",
       "</table>\n",
       "</div>"
      ],
      "text/plain": [
       "                                                                                                                                              text  \\\n",
       "455                                                         @Iberia por qué no puedo hacer el checking de mi vuelo IB3167? https://t.co/cauYpRzU2I   \n",
       "2253  Iberia aumentará sus vuelos semanales de la ruta Buenos Aires-Madrid en 2018 https://t.co/pfQQ95bOAu #NoTextAndDrive https://t.co/yu3ukqZmNK   \n",
       "5700  No volveré a viajar en IBERIA, pésima atención: perdieron mi maleta y regresó después de 5 meses, con 17 kilos menos https://t.co/0i4rDE9cG9   \n",
       "1575                                                                   @Iberia sabemos si se cancela este vuelo?? Gracias! https://t.co/YTxlmAl8Dj   \n",
       "3280                                   El canal Smithsonian recrea en un vídeo el accidente de Spanair en Barajas  #JK5022 https://t.co/d65ds4Muic   \n",
       "\n",
       "     airline_sentiment       at  \n",
       "455            neutral  @Iberia  \n",
       "2253           neutral      NaN  \n",
       "5700          negative      NaN  \n",
       "1575           neutral  @Iberia  \n",
       "3280           neutral      NaN  "
      ]
     },
     "execution_count": 58,
     "metadata": {},
     "output_type": "execute_result"
    }
   ],
   "source": [
    "# @장소를 다른 열로 저장하기\n",
    "tweets['at'] = tweets.text.str.extract(r'^(@\\S+)')\n",
    "tweets.sample(5)"
   ]
  },
  {
   "cell_type": "code",
   "execution_count": 59,
   "id": "64a8570c-56ce-4c1f-9dac-547d00ff35fc",
   "metadata": {},
   "outputs": [
    {
     "data": {
      "text/html": [
       "<div>\n",
       "<style scoped>\n",
       "    .dataframe tbody tr th:only-of-type {\n",
       "        vertical-align: middle;\n",
       "    }\n",
       "\n",
       "    .dataframe tbody tr th {\n",
       "        vertical-align: top;\n",
       "    }\n",
       "\n",
       "    .dataframe thead th {\n",
       "        text-align: right;\n",
       "    }\n",
       "</style>\n",
       "<table border=\"1\" class=\"dataframe\">\n",
       "  <thead>\n",
       "    <tr style=\"text-align: right;\">\n",
       "      <th></th>\n",
       "      <th>text</th>\n",
       "      <th>airline_sentiment</th>\n",
       "      <th>at</th>\n",
       "    </tr>\n",
       "  </thead>\n",
       "  <tbody>\n",
       "    <tr>\n",
       "      <th>1190</th>\n",
       "      <td>Tenerife Iberia Toscal y Bisontes Castellón cierran este domingo la Jornada 11 en Segunda División</td>\n",
       "      <td>neutral</td>\n",
       "      <td>NaN</td>\n",
       "    </tr>\n",
       "    <tr>\n",
       "      <th>6357</th>\n",
       "      <td>TipicoDeNavidad  perdió mi maleta hace 5 días y no saben dónde está. Tengo medicamentos que no estoy tomand…</td>\n",
       "      <td>negative</td>\n",
       "      <td>NaN</td>\n",
       "    </tr>\n",
       "    <tr>\n",
       "      <th>3980</th>\n",
       "      <td>Esos jeans combinaban con Alpargatas Iberia</td>\n",
       "      <td>positive</td>\n",
       "      <td>@vladyestay</td>\n",
       "    </tr>\n",
       "    <tr>\n",
       "      <th>1023</th>\n",
       "      <td>Bueno... puntualizar que  aún no tiene tantos. Un poco cascado sí está pero no…</td>\n",
       "      <td>neutral</td>\n",
       "      <td>@slalanda</td>\n",
       "    </tr>\n",
       "    <tr>\n",
       "      <th>3476</th>\n",
       "      <td>estoy muy descontenta con su servicio y gestión de mi reserva de vuelo. Han contestado tarde a mi petición d…</td>\n",
       "      <td>negative</td>\n",
       "      <td>@Rumbo</td>\n",
       "    </tr>\n",
       "    <tr>\n",
       "      <th>1033</th>\n",
       "      <td>Qatar Airways (1º) e Iberia (2º) fueron nombradas como las aerolíneas más puntuales en el último semestre con 91.15…</td>\n",
       "      <td>positive</td>\n",
       "      <td>NaN</td>\n",
       "    </tr>\n",
       "    <tr>\n",
       "      <th>7029</th>\n",
       "      <td>Me ha gustado un vídeo de  ( - Ryanair passenger jumps out emergency exit in Malaga (Boeing 737)).</td>\n",
       "      <td>negative</td>\n",
       "      <td>NaN</td>\n",
       "    </tr>\n",
       "    <tr>\n",
       "      <th>7546</th>\n",
       "      <td>o. debería mejorar su sistema de mailings con las reservas. Aprendan un poco de  al respecto, ple…</td>\n",
       "      <td>negative</td>\n",
       "      <td>NaN</td>\n",
       "    </tr>\n",
       "    <tr>\n",
       "      <th>3150</th>\n",
       "      <td>Para…</td>\n",
       "      <td>positive</td>\n",
       "      <td>@Grupo_Envera_</td>\n",
       "    </tr>\n",
       "    <tr>\n",
       "      <th>2436</th>\n",
       "      <td>Y confirmais cómo os reis del cliente: HACEIS LLAMAR A UN NÚM DE PAGO PARA DECIR NO TE DEVUELVO NADA, felic…</td>\n",
       "      <td>negative</td>\n",
       "      <td>@Iberia</td>\n",
       "    </tr>\n",
       "  </tbody>\n",
       "</table>\n",
       "</div>"
      ],
      "text/plain": [
       "                                                                                                                       text  \\\n",
       "1190                    Tenerife Iberia Toscal y Bisontes Castellón cierran este domingo la Jornada 11 en Segunda División    \n",
       "6357          TipicoDeNavidad  perdió mi maleta hace 5 días y no saben dónde está. Tengo medicamentos que no estoy tomand…    \n",
       "3980                                                                            Esos jeans combinaban con Alpargatas Iberia   \n",
       "1023                                       Bueno... puntualizar que  aún no tiene tantos. Un poco cascado sí está pero no…    \n",
       "3476         estoy muy descontenta con su servicio y gestión de mi reserva de vuelo. Han contestado tarde a mi petición d…    \n",
       "1033  Qatar Airways (1º) e Iberia (2º) fueron nombradas como las aerolíneas más puntuales en el último semestre con 91.15…    \n",
       "7029                     Me ha gustado un vídeo de  ( - Ryanair passenger jumps out emergency exit in Malaga (Boeing 737)).   \n",
       "7546                    o. debería mejorar su sistema de mailings con las reservas. Aprendan un poco de  al respecto, ple…    \n",
       "3150                                                                                                                 Para…    \n",
       "2436          Y confirmais cómo os reis del cliente: HACEIS LLAMAR A UN NÚM DE PAGO PARA DECIR NO TE DEVUELVO NADA, felic…    \n",
       "\n",
       "     airline_sentiment              at  \n",
       "1190           neutral             NaN  \n",
       "6357          negative             NaN  \n",
       "3980          positive     @vladyestay  \n",
       "1023           neutral       @slalanda  \n",
       "3476          negative          @Rumbo  \n",
       "1033          positive             NaN  \n",
       "7029          negative             NaN  \n",
       "7546          negative             NaN  \n",
       "3150          positive  @Grupo_Envera_  \n",
       "2436          negative         @Iberia  "
      ]
     },
     "execution_count": 59,
     "metadata": {},
     "output_type": "execute_result"
    }
   ],
   "source": [
    "# 텍스트에서 hashtag, @, http 제거하기\n",
    "def remove_handles(text):\n",
    "    return re.sub(r'@\\S+|https://\\S+|\\#', '', text) # @, hashtag, address 삭제\n",
    "\n",
    "tweets.text = tweets.text.apply(remove_handles)\n",
    "tweets.sample(10)"
   ]
  },
  {
   "cell_type": "markdown",
   "id": "6c3e2383-92c3-409d-b64f-fff5c5fb1f6a",
   "metadata": {},
   "source": [
    "### 감정분석\n",
    "- textblob: 영어밖에 지원이 안 됨. 스페인어->영어 변환 후 사용\n",
    "- sentiment_analysis_spanish"
   ]
  },
  {
   "cell_type": "code",
   "execution_count": 60,
   "id": "06242b84-4528-447a-9b67-175c07ff140f",
   "metadata": {},
   "outputs": [],
   "source": [
    "from textblob import TextBlob"
   ]
  },
  {
   "cell_type": "code",
   "execution_count": 61,
   "id": "7fc575d0-f5bb-46f1-b917-ddff18c302dc",
   "metadata": {},
   "outputs": [],
   "source": [
    "# es -> en 변환\n",
    "def get_tweet_sentiment(tweet):\n",
    "    analysis = TextBlob(tweet)\n",
    "    \n",
    "    language = analysis.detect_language()\n",
    "    if language == 'en':\n",
    "        analysis_ready = analysis\n",
    "    else: # 영어가 아닌 언어는 영어로 바꿈\n",
    "        analysis_ready = analysis.translate(to='en')\n",
    "\n",
    "    if analysis_ready.sentiment.polarity > 0: # polarity를 측정하는 메소드를 가짐\n",
    "        return 'positive'\n",
    "    elif analysis_ready.sentiment.polarity == 0: \n",
    "        return 'neutral'\n",
    "    else: \n",
    "        return 'negative'"
   ]
  },
  {
   "cell_type": "code",
   "execution_count": 62,
   "id": "a695860b-1b70-445e-be0a-e58fbf2ee0d9",
   "metadata": {},
   "outputs": [
    {
     "data": {
      "text/plain": [
       "Sentiment(polarity=-0.33181818181818185, subjectivity=0.6772727272727272)"
      ]
     },
     "execution_count": 62,
     "metadata": {},
     "output_type": "execute_result"
    }
   ],
   "source": [
    "# 예시\n",
    "sentence = 'I hate New York.'\n",
    "blob = TextBlob(sentence)\n",
    "blob.sentiment # [-1, 1]"
   ]
  },
  {
   "cell_type": "code",
   "execution_count": 63,
   "id": "e0d2b1ac-4116-4ce9-85c8-3047bb0de828",
   "metadata": {},
   "outputs": [
    {
     "data": {
      "text/plain": [
       "['Iberia recibe un nuevo avión A330-200 y lo bautiza como “Santo Domingo”  ']"
      ]
     },
     "execution_count": 63,
     "metadata": {},
     "output_type": "execute_result"
    }
   ],
   "source": [
    "# 랜덤으로 한 문장 뽑기\n",
    "sentence = tweets.text.sample(1).tolist()\n",
    "sentence"
   ]
  },
  {
   "cell_type": "code",
   "execution_count": 64,
   "id": "be17dc86-ffe2-48f7-9191-f9623a2984fd",
   "metadata": {},
   "outputs": [
    {
     "data": {
      "text/plain": [
       "'positive'"
      ]
     },
     "execution_count": 64,
     "metadata": {},
     "output_type": "execute_result"
    }
   ],
   "source": [
    "get_tweet_sentiment(sentence[0])"
   ]
  },
  {
   "cell_type": "markdown",
   "id": "b5841cf7-1dfd-4de3-a81f-fa9dd2b0989a",
   "metadata": {},
   "source": [
    "#### sentiment_analysis_spanish\n",
    "0~1로 표현. neg-pos"
   ]
  },
  {
   "cell_type": "code",
   "execution_count": 65,
   "id": "9ba1753c-7631-4d02-9346-0efece4b0887",
   "metadata": {},
   "outputs": [],
   "source": [
    "from sentiment_analysis_spanish import sentiment_analysis"
   ]
  },
  {
   "cell_type": "code",
   "execution_count": 66,
   "id": "91843601-9189-49a5-830e-0f2eb1c2e7dc",
   "metadata": {},
   "outputs": [
    {
     "name": "stdout",
     "output_type": "stream",
     "text": [
      "0.9304396176531412\n"
     ]
    }
   ],
   "source": [
    "#test\n",
    "senti_analizer = sentiment_analysis.SentimentAnalysisSpanish()\n",
    "print(senti_analizer.sentiment(\"Me gusta la tombola. Es genial.\")) # positive"
   ]
  },
  {
   "cell_type": "code",
   "execution_count": 67,
   "id": "93431cee-0881-41c1-ab48-c26ea4f58a97",
   "metadata": {},
   "outputs": [
    {
     "data": {
      "text/html": [
       "<div>\n",
       "<style scoped>\n",
       "    .dataframe tbody tr th:only-of-type {\n",
       "        vertical-align: middle;\n",
       "    }\n",
       "\n",
       "    .dataframe tbody tr th {\n",
       "        vertical-align: top;\n",
       "    }\n",
       "\n",
       "    .dataframe thead th {\n",
       "        text-align: right;\n",
       "    }\n",
       "</style>\n",
       "<table border=\"1\" class=\"dataframe\">\n",
       "  <thead>\n",
       "    <tr style=\"text-align: right;\">\n",
       "      <th></th>\n",
       "      <th>text</th>\n",
       "      <th>airline_sentiment</th>\n",
       "      <th>at</th>\n",
       "      <th>polarity</th>\n",
       "    </tr>\n",
       "  </thead>\n",
       "  <tbody>\n",
       "    <tr>\n",
       "      <th>0</th>\n",
       "      <td>Trabajar en Ryanair como TMA:  empleo</td>\n",
       "      <td>neutral</td>\n",
       "      <td>NaN</td>\n",
       "      <td>0.230391</td>\n",
       "    </tr>\n",
       "    <tr>\n",
       "      <th>1</th>\n",
       "      <td>Cuando gusten en Cancún se viaja y disfruta de manera sin igual</td>\n",
       "      <td>neutral</td>\n",
       "      <td>@Iberia</td>\n",
       "      <td>0.025044</td>\n",
       "    </tr>\n",
       "    <tr>\n",
       "      <th>2</th>\n",
       "      <td>Sabiais que  te trata muy bien en santiago de chile?Te cambia el asiento,te manda a volar en el wc trasero,e…</td>\n",
       "      <td>negative</td>\n",
       "      <td>NaN</td>\n",
       "      <td>0.350941</td>\n",
       "    </tr>\n",
       "  </tbody>\n",
       "</table>\n",
       "</div>"
      ],
      "text/plain": [
       "                                                                                                             text  \\\n",
       "0                                                                           Trabajar en Ryanair como TMA:  empleo   \n",
       "1                                                 Cuando gusten en Cancún se viaja y disfruta de manera sin igual   \n",
       "2  Sabiais que  te trata muy bien en santiago de chile?Te cambia el asiento,te manda a volar en el wc trasero,e…    \n",
       "\n",
       "  airline_sentiment       at  polarity  \n",
       "0           neutral      NaN  0.230391  \n",
       "1           neutral  @Iberia  0.025044  \n",
       "2          negative      NaN  0.350941  "
      ]
     },
     "execution_count": 67,
     "metadata": {},
     "output_type": "execute_result"
    }
   ],
   "source": [
    "tweets['polarity'] = tweets.text.apply(senti_analizer.sentiment)\n",
    "tweets.head(3)"
   ]
  },
  {
   "cell_type": "code",
   "execution_count": 68,
   "id": "0699ef57-73e0-4b13-b71d-236fc4f15890",
   "metadata": {},
   "outputs": [
    {
     "data": {
      "text/html": [
       "<div>\n",
       "<style scoped>\n",
       "    .dataframe tbody tr th:only-of-type {\n",
       "        vertical-align: middle;\n",
       "    }\n",
       "\n",
       "    .dataframe tbody tr th {\n",
       "        vertical-align: top;\n",
       "    }\n",
       "\n",
       "    .dataframe thead th {\n",
       "        text-align: right;\n",
       "    }\n",
       "</style>\n",
       "<table border=\"1\" class=\"dataframe\">\n",
       "  <thead>\n",
       "    <tr style=\"text-align: right;\">\n",
       "      <th></th>\n",
       "      <th>text</th>\n",
       "      <th>airline_sentiment</th>\n",
       "      <th>at</th>\n",
       "      <th>polarity</th>\n",
       "    </tr>\n",
       "  </thead>\n",
       "  <tbody>\n",
       "    <tr>\n",
       "      <th>3216</th>\n",
       "      <td>Vistas que no tenemos todos los días. Un A330 de Iberia en aproximación por el centro de Madrid</td>\n",
       "      <td>neutral</td>\n",
       "      <td>NaN</td>\n",
       "      <td>1.000000</td>\n",
       "    </tr>\n",
       "    <tr>\n",
       "      <th>1536</th>\n",
       "      <td>Iberia tendrá nuevas conexiones en 2018 desde el aeropuerto de Madrid hacia Managua y San Francisco…</td>\n",
       "      <td>positive</td>\n",
       "      <td>NaN</td>\n",
       "      <td>1.000000</td>\n",
       "    </tr>\n",
       "    <tr>\n",
       "      <th>5240</th>\n",
       "      <td>La aerolínea  tendrá nuevas conexiones en 2018 desde el aeropuerto de Madrid hacia Managua y SanFrancisco</td>\n",
       "      <td>positive</td>\n",
       "      <td>NaN</td>\n",
       "      <td>1.000000</td>\n",
       "    </tr>\n",
       "    <tr>\n",
       "      <th>92</th>\n",
       "      <td>La aerolínea  tendrá nuevas conexiones en 2018 desde el aeropuerto de Madrid hacia Managua y SanFrancisco</td>\n",
       "      <td>neutral</td>\n",
       "      <td>NaN</td>\n",
       "      <td>1.000000</td>\n",
       "    </tr>\n",
       "    <tr>\n",
       "      <th>6808</th>\n",
       "      <td>Samsung e Iberia sorprenden a los viajeros de un vuelo de Madrid a La Coruña con un «regalazo»  vía</td>\n",
       "      <td>positive</td>\n",
       "      <td>NaN</td>\n",
       "      <td>1.000000</td>\n",
       "    </tr>\n",
       "    <tr>\n",
       "      <th>3403</th>\n",
       "      <td>Samsung e Iberia sorprenden a los viajeros de un vuelo de Madrid a La Coruña con un «regalazo»  vía</td>\n",
       "      <td>positive</td>\n",
       "      <td>NaN</td>\n",
       "      <td>1.000000</td>\n",
       "    </tr>\n",
       "    <tr>\n",
       "      <th>2909</th>\n",
       "      <td>muchas gracias al personal de Business en aeropuerto de Madrid.La ayuda en situación complicada muestra su gran profesionalidad</td>\n",
       "      <td>positive</td>\n",
       "      <td>@Iberia</td>\n",
       "      <td>1.000000</td>\n",
       "    </tr>\n",
       "    <tr>\n",
       "      <th>5208</th>\n",
       "      <td>Iberia remodela su zona VIP del aeropuerto de Madrid con muchas comodidades:</td>\n",
       "      <td>positive</td>\n",
       "      <td>NaN</td>\n",
       "      <td>0.999999</td>\n",
       "    </tr>\n",
       "    <tr>\n",
       "      <th>7001</th>\n",
       "      <td>Un muy buen destino, me encantó 👋👋👋</td>\n",
       "      <td>positive</td>\n",
       "      <td>@AParayas</td>\n",
       "      <td>0.999998</td>\n",
       "    </tr>\n",
       "    <tr>\n",
       "      <th>4468</th>\n",
       "      <td>Iberia inaugura un nuevo espacio Premium en el aeropuerto de Madrid</td>\n",
       "      <td>neutral</td>\n",
       "      <td>NaN</td>\n",
       "      <td>0.999998</td>\n",
       "    </tr>\n",
       "  </tbody>\n",
       "</table>\n",
       "</div>"
      ],
      "text/plain": [
       "                                                                                                                                  text  \\\n",
       "3216                                 Vistas que no tenemos todos los días. Un A330 de Iberia en aproximación por el centro de Madrid     \n",
       "1536                             Iberia tendrá nuevas conexiones en 2018 desde el aeropuerto de Madrid hacia Managua y San Francisco…    \n",
       "5240                        La aerolínea  tendrá nuevas conexiones en 2018 desde el aeropuerto de Madrid hacia Managua y SanFrancisco    \n",
       "92                          La aerolínea  tendrá nuevas conexiones en 2018 desde el aeropuerto de Madrid hacia Managua y SanFrancisco    \n",
       "6808                              Samsung e Iberia sorprenden a los viajeros de un vuelo de Madrid a La Coruña con un «regalazo»  vía    \n",
       "3403                              Samsung e Iberia sorprenden a los viajeros de un vuelo de Madrid a La Coruña con un «regalazo»  vía    \n",
       "2909   muchas gracias al personal de Business en aeropuerto de Madrid.La ayuda en situación complicada muestra su gran profesionalidad   \n",
       "5208                                                     Iberia remodela su zona VIP del aeropuerto de Madrid con muchas comodidades:    \n",
       "7001                                                                                               Un muy buen destino, me encantó 👋👋👋   \n",
       "4468                                                              Iberia inaugura un nuevo espacio Premium en el aeropuerto de Madrid    \n",
       "\n",
       "     airline_sentiment         at  polarity  \n",
       "3216           neutral        NaN  1.000000  \n",
       "1536          positive        NaN  1.000000  \n",
       "5240          positive        NaN  1.000000  \n",
       "92             neutral        NaN  1.000000  \n",
       "6808          positive        NaN  1.000000  \n",
       "3403          positive        NaN  1.000000  \n",
       "2909          positive    @Iberia  1.000000  \n",
       "5208          positive        NaN  0.999999  \n",
       "7001          positive  @AParayas  0.999998  \n",
       "4468           neutral        NaN  0.999998  "
      ]
     },
     "execution_count": 68,
     "metadata": {},
     "output_type": "execute_result"
    }
   ],
   "source": [
    "# sorting\n",
    "tweets.sort_values(by=['polarity'], ascending=False).head(10)"
   ]
  },
  {
   "cell_type": "code",
   "execution_count": 52,
   "id": "46711a5b-5c5b-46ad-8c3c-ab30c325c90c",
   "metadata": {},
   "outputs": [
    {
     "data": {
      "text/html": [
       "<div>\n",
       "<style scoped>\n",
       "    .dataframe tbody tr th:only-of-type {\n",
       "        vertical-align: middle;\n",
       "    }\n",
       "\n",
       "    .dataframe tbody tr th {\n",
       "        vertical-align: top;\n",
       "    }\n",
       "\n",
       "    .dataframe thead th {\n",
       "        text-align: right;\n",
       "    }\n",
       "</style>\n",
       "<table border=\"1\" class=\"dataframe\">\n",
       "  <thead>\n",
       "    <tr style=\"text-align: right;\">\n",
       "      <th></th>\n",
       "      <th>text</th>\n",
       "      <th>at</th>\n",
       "      <th>polarity</th>\n",
       "      <th>label</th>\n",
       "    </tr>\n",
       "  </thead>\n",
       "  <tbody>\n",
       "    <tr>\n",
       "      <th>0</th>\n",
       "      <td>Trabajar en Ryanair como TMA:  empleo</td>\n",
       "      <td>NaN</td>\n",
       "      <td>0.230391</td>\n",
       "      <td>negative</td>\n",
       "    </tr>\n",
       "    <tr>\n",
       "      <th>1</th>\n",
       "      <td>Cuando gusten en Cancún se viaja y disfruta de manera sin igual</td>\n",
       "      <td>@Iberia</td>\n",
       "      <td>0.025044</td>\n",
       "      <td>negative</td>\n",
       "    </tr>\n",
       "    <tr>\n",
       "      <th>2</th>\n",
       "      <td>Sabiais que  te trata muy bien en santiago de chile?Te cambia el asiento,te manda a volar en el wc trasero,e…</td>\n",
       "      <td>NaN</td>\n",
       "      <td>0.350941</td>\n",
       "      <td>negative</td>\n",
       "    </tr>\n",
       "    <tr>\n",
       "      <th>3</th>\n",
       "      <td>NUNCA NUNCA NUNCA pidáis el café de Ryanair.\\nBueno, nada que vendan a bordo.</td>\n",
       "      <td>NaN</td>\n",
       "      <td>0.000305</td>\n",
       "      <td>negative</td>\n",
       "    </tr>\n",
       "    <tr>\n",
       "      <th>4</th>\n",
       "      <td>Muchos éxito…</td>\n",
       "      <td>@cris_tortu</td>\n",
       "      <td>0.555005</td>\n",
       "      <td>positive</td>\n",
       "    </tr>\n",
       "  </tbody>\n",
       "</table>\n",
       "</div>"
      ],
      "text/plain": [
       "                                                                                                             text  \\\n",
       "0                                                                           Trabajar en Ryanair como TMA:  empleo   \n",
       "1                                                 Cuando gusten en Cancún se viaja y disfruta de manera sin igual   \n",
       "2  Sabiais que  te trata muy bien en santiago de chile?Te cambia el asiento,te manda a volar en el wc trasero,e…    \n",
       "3                                   NUNCA NUNCA NUNCA pidáis el café de Ryanair.\\nBueno, nada que vendan a bordo.   \n",
       "4                                                                                                  Muchos éxito…    \n",
       "\n",
       "            at  polarity     label  \n",
       "0          NaN  0.230391  negative  \n",
       "1      @Iberia  0.025044  negative  \n",
       "2          NaN  0.350941  negative  \n",
       "3          NaN  0.000305  negative  \n",
       "4  @cris_tortu  0.555005  positive  "
      ]
     },
     "execution_count": 52,
     "metadata": {},
     "output_type": "execute_result"
    }
   ],
   "source": [
    "#option 1. polarity 점수 구간에 따라 레이블을 positive, negative로 나누기 (2가지)\n",
    "\n",
    "tweets['label'] = tweets.polarity.apply(lambda x: 'positive' if x >= 0.5 else 'negative')\n",
    "tweets.head(5)"
   ]
  },
  {
   "cell_type": "code",
   "execution_count": 73,
   "id": "c16ebe71-7f0d-48b3-97ae-75fbf507251f",
   "metadata": {},
   "outputs": [
    {
     "data": {
      "text/html": [
       "<div>\n",
       "<style scoped>\n",
       "    .dataframe tbody tr th:only-of-type {\n",
       "        vertical-align: middle;\n",
       "    }\n",
       "\n",
       "    .dataframe tbody tr th {\n",
       "        vertical-align: top;\n",
       "    }\n",
       "\n",
       "    .dataframe thead th {\n",
       "        text-align: right;\n",
       "    }\n",
       "</style>\n",
       "<table border=\"1\" class=\"dataframe\">\n",
       "  <thead>\n",
       "    <tr style=\"text-align: right;\">\n",
       "      <th></th>\n",
       "      <th>text</th>\n",
       "      <th>airline_sentiment</th>\n",
       "      <th>at</th>\n",
       "      <th>polarity</th>\n",
       "      <th>label</th>\n",
       "    </tr>\n",
       "  </thead>\n",
       "  <tbody>\n",
       "    <tr>\n",
       "      <th>0</th>\n",
       "      <td>Trabajar en Ryanair como TMA:  empleo</td>\n",
       "      <td>neutral</td>\n",
       "      <td>NaN</td>\n",
       "      <td>0.230391</td>\n",
       "      <td>0</td>\n",
       "    </tr>\n",
       "    <tr>\n",
       "      <th>1</th>\n",
       "      <td>Cuando gusten en Cancún se viaja y disfruta de manera sin igual</td>\n",
       "      <td>neutral</td>\n",
       "      <td>@Iberia</td>\n",
       "      <td>0.025044</td>\n",
       "      <td>0</td>\n",
       "    </tr>\n",
       "    <tr>\n",
       "      <th>2</th>\n",
       "      <td>Sabiais que  te trata muy bien en santiago de chile?Te cambia el asiento,te manda a volar en el wc trasero,e…</td>\n",
       "      <td>negative</td>\n",
       "      <td>NaN</td>\n",
       "      <td>0.350941</td>\n",
       "      <td>2</td>\n",
       "    </tr>\n",
       "    <tr>\n",
       "      <th>3</th>\n",
       "      <td>NUNCA NUNCA NUNCA pidáis el café de Ryanair.\\nBueno, nada que vendan a bordo.</td>\n",
       "      <td>negative</td>\n",
       "      <td>NaN</td>\n",
       "      <td>0.000305</td>\n",
       "      <td>2</td>\n",
       "    </tr>\n",
       "    <tr>\n",
       "      <th>4</th>\n",
       "      <td>Muchos éxito…</td>\n",
       "      <td>positive</td>\n",
       "      <td>@cris_tortu</td>\n",
       "      <td>0.555005</td>\n",
       "      <td>1</td>\n",
       "    </tr>\n",
       "  </tbody>\n",
       "</table>\n",
       "</div>"
      ],
      "text/plain": [
       "                                                                                                             text  \\\n",
       "0                                                                           Trabajar en Ryanair como TMA:  empleo   \n",
       "1                                                 Cuando gusten en Cancún se viaja y disfruta de manera sin igual   \n",
       "2  Sabiais que  te trata muy bien en santiago de chile?Te cambia el asiento,te manda a volar en el wc trasero,e…    \n",
       "3                                   NUNCA NUNCA NUNCA pidáis el café de Ryanair.\\nBueno, nada que vendan a bordo.   \n",
       "4                                                                                                  Muchos éxito…    \n",
       "\n",
       "  airline_sentiment           at  polarity  label  \n",
       "0           neutral          NaN  0.230391      0  \n",
       "1           neutral      @Iberia  0.025044      0  \n",
       "2          negative          NaN  0.350941      2  \n",
       "3          negative          NaN  0.000305      2  \n",
       "4          positive  @cris_tortu  0.555005      1  "
      ]
     },
     "execution_count": 73,
     "metadata": {},
     "output_type": "execute_result"
    }
   ],
   "source": [
    "#option 2. airline_sentiment에 따라 나누기 (3가지)\n",
    "\n",
    "def tag_label(sentiment):\n",
    "    sentiment = sentiment.lower()\n",
    "    \n",
    "    if sentiment == 'neutral':\n",
    "        return 0\n",
    "    elif sentiment == 'positive':\n",
    "        return 1\n",
    "    else:\n",
    "        return 2\n",
    "        \n",
    "tweets['label'] = tweets.airline_sentiment.apply(tag_label)\n",
    "tweets.head(5)"
   ]
  },
  {
   "cell_type": "code",
   "execution_count": 74,
   "id": "a3c51e9a-eabd-43f3-94e8-f51cb3bc7294",
   "metadata": {},
   "outputs": [
    {
     "data": {
      "text/plain": [
       "2    3769\n",
       "0    2609\n",
       "1    1489\n",
       "Name: airline_sentiment, dtype: int64"
      ]
     },
     "execution_count": 74,
     "metadata": {},
     "output_type": "execute_result"
    }
   ],
   "source": [
    "tweets.label.value_counts() # 주로 부정적인 데이터가 많음."
   ]
  },
  {
   "cell_type": "code",
   "execution_count": 75,
   "id": "4a1f470f-5a8a-47b2-8556-d23709ff87dd",
   "metadata": {},
   "outputs": [],
   "source": [
    "# 파일로 저장\n",
    "out_file = os.path.join(PATH, 'OUT', 'tweets_public_polarity.csv')\n",
    "tweets.to_csv(out_file, sep='\\t', encoding='utf-8')"
   ]
  },
  {
   "cell_type": "markdown",
   "id": "8b7df617-b2fd-443f-b569-0f2706c313f6",
   "metadata": {},
   "source": []
  }
 ],
 "metadata": {
  "kernelspec": {
   "display_name": "Python 3",
   "language": "python",
   "name": "python3"
  },
  "language_info": {
   "codemirror_mode": {
    "name": "ipython",
    "version": 3
   },
   "file_extension": ".py",
   "mimetype": "text/x-python",
   "name": "python",
   "nbconvert_exporter": "python",
   "pygments_lexer": "ipython3",
   "version": "3.6.9"
  }
 },
 "nbformat": 4,
 "nbformat_minor": 5
}
